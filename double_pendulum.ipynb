{
  "nbformat": 4,
  "nbformat_minor": 0,
  "metadata": {
    "colab": {
      "name": "double_pendulum.ipynb",
      "provenance": [],
      "collapsed_sections": [],
      "mount_file_id": "1W4hCu7HfwmkIQX_FxIoM6QBpLyqYLiUe",
      "authorship_tag": "ABX9TyMZS/G85Rkx+Iv8pfulwvVQ",
      "include_colab_link": true
    },
    "kernelspec": {
      "name": "python3",
      "display_name": "Python 3"
    },
    "language_info": {
      "name": "python"
    }
  },
  "cells": [
    {
      "cell_type": "markdown",
      "metadata": {
        "id": "view-in-github",
        "colab_type": "text"
      },
      "source": [
        "<a href=\"https://colab.research.google.com/github/rfmergarejo/Physics/blob/main/double_pendulum.ipynb\" target=\"_parent\"><img src=\"https://colab.research.google.com/assets/colab-badge.svg\" alt=\"Open In Colab\"/></a>"
      ]
    },
    {
      "cell_type": "markdown",
      "source": [
        "The double pendulum is a very complicate problem in physics where an analytical solution is almost impossible. "
      ],
      "metadata": {
        "id": "kT9M2-bbshCC"
      }
    },
    {
      "cell_type": "code",
      "source": [
        "import numpy as np\n",
        "import sympy as smp\n",
        "\n",
        "# Integrator.... Differential equation solver\n",
        "from scipy.integrate import odeint\n",
        "\n",
        "# All those librarys is for visualization.\n",
        "import matplotlib.pyplot as plt\n",
        "from matplotlib import animation\n",
        "from mpl_toolkits.mplot3d import Axes3D\n",
        "from matplotlib.animation import PillowWriter"
      ],
      "metadata": {
        "id": "mFGoJRics1Bw"
      },
      "execution_count": 27,
      "outputs": []
    },
    {
      "cell_type": "markdown",
      "source": [
        "The representation is the following:\n",
        "\n",
        "\n",
        "\n"
      ],
      "metadata": {
        "id": "xiD8J8Xmt2mc"
      }
    },
    {
      "cell_type": "markdown",
      "source": [
        "Defining the apporpiate symbols using `sympy` "
      ],
      "metadata": {
        "id": "raXLzVkrvl-a"
      }
    },
    {
      "cell_type": "code",
      "source": [
        "t, g = smp.symbols('t, g')\n",
        "m1, m2 = smp.symbols('m1, m2')\n",
        "L1, L2 = smp.symbols('L1, L2')"
      ],
      "metadata": {
        "id": "nRgY_dbav0mt"
      },
      "execution_count": 28,
      "outputs": []
    },
    {
      "cell_type": "code",
      "source": [
        "thet1, thet2 = smp.symbols(r'\\theta_1, \\theta_2', cls=smp.Function)"
      ],
      "metadata": {
        "id": "a0TdGPM6wdGF"
      },
      "execution_count": 29,
      "outputs": []
    },
    {
      "cell_type": "markdown",
      "source": [
        "Explicitly writting $\\theta_1$ and $\\theta_2$ as a function of time."
      ],
      "metadata": {
        "id": "U-7mEqLnw6KM"
      }
    },
    {
      "cell_type": "code",
      "source": [
        "thet1 = thet1(t)\n",
        "thet2 = thet2(t)"
      ],
      "metadata": {
        "id": "yKYyfA5Qw19z"
      },
      "execution_count": 30,
      "outputs": []
    },
    {
      "cell_type": "markdown",
      "source": [
        "Define the first and seconds derivatives."
      ],
      "metadata": {
        "id": "VvSTmEeUyCJJ"
      }
    },
    {
      "cell_type": "code",
      "source": [
        "thet1_D = smp.diff(thet1, t)\n",
        "thet2_D = smp.diff(thet2, t)\n",
        "\n",
        "thet1_2D = smp.diff(thet1_D, t)\n",
        "thet2_2D = smp.diff(thet2_D, t)"
      ],
      "metadata": {
        "id": "jMnsvHTqyKGV"
      },
      "execution_count": 31,
      "outputs": []
    },
    {
      "cell_type": "markdown",
      "source": [
        "Defining the cartesians coordinates in terms of the parameters defined above"
      ],
      "metadata": {
        "id": "hGm2JlUayrHN"
      }
    },
    {
      "cell_type": "code",
      "source": [
        "x1 = -L1*smp.sin(thet1)\n",
        "y1 = -L1*smp.cos(thet1)\n",
        "\n",
        "x2 = x1 - L2*smp.sin(thet2)\n",
        "y2 = y1 - L2*smp.cos(thet2)"
      ],
      "metadata": {
        "id": "dzwLOQRay43_"
      },
      "execution_count": 32,
      "outputs": []
    },
    {
      "cell_type": "markdown",
      "source": [
        "Writing the Lagrangian "
      ],
      "metadata": {
        "id": "oygq4m_zzX0l"
      }
    },
    {
      "cell_type": "code",
      "source": [
        "# Kinetic Energy\n",
        "K1 = 0.5 * m1 * (smp.diff(x1, t)**2 + smp.diff(y1, t)**2)\n",
        "K2 = 0.5 * m2 * (smp.diff(x2, t)**2 + smp.diff(y2, t)**2)\n",
        "K = K1+K2\n",
        "\n",
        "# Potential \n",
        "V1 = m1*g*y1\n",
        "V2 = m2*g*y2\n",
        "V = V1 + V2\n",
        "\n",
        "# Lagrangian\n",
        "L = K-V"
      ],
      "metadata": {
        "id": "-dJOI_auzch4"
      },
      "execution_count": 33,
      "outputs": []
    },
    {
      "cell_type": "code",
      "source": [
        "L"
      ],
      "metadata": {
        "colab": {
          "base_uri": "https://localhost:8080/",
          "height": 119
        },
        "id": "hnP5gXQK0Asn",
        "outputId": "a871a90f-9fed-4c47-885f-3924c3392fee"
      },
      "execution_count": 34,
      "outputs": [
        {
          "output_type": "execute_result",
          "data": {
            "text/plain": [
              "L1*g*m1*cos(\\theta_1(t)) - g*m2*(-L1*cos(\\theta_1(t)) - L2*cos(\\theta_2(t))) + 0.5*m1*(L1**2*sin(\\theta_1(t))**2*Derivative(\\theta_1(t), t)**2 + L1**2*cos(\\theta_1(t))**2*Derivative(\\theta_1(t), t)**2) + 0.5*m2*((L1*sin(\\theta_1(t))*Derivative(\\theta_1(t), t) + L2*sin(\\theta_2(t))*Derivative(\\theta_2(t), t))**2 + (-L1*cos(\\theta_1(t))*Derivative(\\theta_1(t), t) - L2*cos(\\theta_2(t))*Derivative(\\theta_2(t), t))**2)"
            ],
            "text/latex": "$\\displaystyle L_{1} g m_{1} \\cos{\\left(\\theta_{1}{\\left(t \\right)} \\right)} - g m_{2} \\left(- L_{1} \\cos{\\left(\\theta_{1}{\\left(t \\right)} \\right)} - L_{2} \\cos{\\left(\\theta_{2}{\\left(t \\right)} \\right)}\\right) + 0.5 m_{1} \\left(L_{1}^{2} \\sin^{2}{\\left(\\theta_{1}{\\left(t \\right)} \\right)} \\left(\\frac{d}{d t} \\theta_{1}{\\left(t \\right)}\\right)^{2} + L_{1}^{2} \\cos^{2}{\\left(\\theta_{1}{\\left(t \\right)} \\right)} \\left(\\frac{d}{d t} \\theta_{1}{\\left(t \\right)}\\right)^{2}\\right) + 0.5 m_{2} \\left(\\left(L_{1} \\sin{\\left(\\theta_{1}{\\left(t \\right)} \\right)} \\frac{d}{d t} \\theta_{1}{\\left(t \\right)} + L_{2} \\sin{\\left(\\theta_{2}{\\left(t \\right)} \\right)} \\frac{d}{d t} \\theta_{2}{\\left(t \\right)}\\right)^{2} + \\left(- L_{1} \\cos{\\left(\\theta_{1}{\\left(t \\right)} \\right)} \\frac{d}{d t} \\theta_{1}{\\left(t \\right)} - L_{2} \\cos{\\left(\\theta_{2}{\\left(t \\right)} \\right)} \\frac{d}{d t} \\theta_{2}{\\left(t \\right)}\\right)^{2}\\right)$"
          },
          "metadata": {},
          "execution_count": 34
        }
      ]
    },
    {
      "cell_type": "markdown",
      "source": [
        "Get Lagrange equation:\n",
        "\n",
        "$$ \\frac{\\partial L}{\\partial \\theta_1} - \\frac{d}{dt}\\frac{\\partial L}{\\partial \\dot{\\theta_1}} = 0 \\\\\n",
        "\\frac{\\partial L}{\\partial \\theta_2} - \\frac{d}{dt}\\frac{\\partial L}{\\partial \\dot{\\theta_2}} = 0$$"
      ],
      "metadata": {
        "id": "J8ePStTr0GjB"
      }
    },
    {
      "cell_type": "code",
      "source": [
        "LE1 = smp.diff(L, thet1) - smp.diff(smp.diff(L, thet1_D), t).simplify()\n",
        "LE2 = smp.diff(L, thet2) - smp.diff(smp.diff(L, thet2_D), t).simplify()"
      ],
      "metadata": {
        "id": "OBs8aAJo0mJK"
      },
      "execution_count": 35,
      "outputs": []
    },
    {
      "cell_type": "code",
      "source": [
        "LE1"
      ],
      "metadata": {
        "colab": {
          "base_uri": "https://localhost:8080/",
          "height": 130
        },
        "id": "lULoPcZi0vgv",
        "outputId": "7e19c387-244b-4a79-b219-fb62a855c90a"
      },
      "execution_count": 36,
      "outputs": [
        {
          "output_type": "execute_result",
          "data": {
            "text/plain": [
              "-L1*g*m1*sin(\\theta_1(t)) - L1*g*m2*sin(\\theta_1(t)) - L1*(L1*m1*Derivative(\\theta_1(t), (t, 2)) + L1*m2*Derivative(\\theta_1(t), (t, 2)) - L2*m2*sin(\\theta_1(t) - \\theta_2(t))*Derivative(\\theta_1(t), t)*Derivative(\\theta_2(t), t) + L2*m2*sin(\\theta_1(t) - \\theta_2(t))*Derivative(\\theta_2(t), t)**2 + L2*m2*cos(\\theta_1(t) - \\theta_2(t))*Derivative(\\theta_2(t), (t, 2))) + 0.5*m2*(2*L1*(L1*sin(\\theta_1(t))*Derivative(\\theta_1(t), t) + L2*sin(\\theta_2(t))*Derivative(\\theta_2(t), t))*cos(\\theta_1(t))*Derivative(\\theta_1(t), t) + 2*L1*(-L1*cos(\\theta_1(t))*Derivative(\\theta_1(t), t) - L2*cos(\\theta_2(t))*Derivative(\\theta_2(t), t))*sin(\\theta_1(t))*Derivative(\\theta_1(t), t))"
            ],
            "text/latex": "$\\displaystyle - L_{1} g m_{1} \\sin{\\left(\\theta_{1}{\\left(t \\right)} \\right)} - L_{1} g m_{2} \\sin{\\left(\\theta_{1}{\\left(t \\right)} \\right)} - L_{1} \\left(L_{1} m_{1} \\frac{d^{2}}{d t^{2}} \\theta_{1}{\\left(t \\right)} + L_{1} m_{2} \\frac{d^{2}}{d t^{2}} \\theta_{1}{\\left(t \\right)} - L_{2} m_{2} \\sin{\\left(\\theta_{1}{\\left(t \\right)} - \\theta_{2}{\\left(t \\right)} \\right)} \\frac{d}{d t} \\theta_{1}{\\left(t \\right)} \\frac{d}{d t} \\theta_{2}{\\left(t \\right)} + L_{2} m_{2} \\sin{\\left(\\theta_{1}{\\left(t \\right)} - \\theta_{2}{\\left(t \\right)} \\right)} \\left(\\frac{d}{d t} \\theta_{2}{\\left(t \\right)}\\right)^{2} + L_{2} m_{2} \\cos{\\left(\\theta_{1}{\\left(t \\right)} - \\theta_{2}{\\left(t \\right)} \\right)} \\frac{d^{2}}{d t^{2}} \\theta_{2}{\\left(t \\right)}\\right) + 0.5 m_{2} \\left(2 L_{1} \\left(L_{1} \\sin{\\left(\\theta_{1}{\\left(t \\right)} \\right)} \\frac{d}{d t} \\theta_{1}{\\left(t \\right)} + L_{2} \\sin{\\left(\\theta_{2}{\\left(t \\right)} \\right)} \\frac{d}{d t} \\theta_{2}{\\left(t \\right)}\\right) \\cos{\\left(\\theta_{1}{\\left(t \\right)} \\right)} \\frac{d}{d t} \\theta_{1}{\\left(t \\right)} + 2 L_{1} \\left(- L_{1} \\cos{\\left(\\theta_{1}{\\left(t \\right)} \\right)} \\frac{d}{d t} \\theta_{1}{\\left(t \\right)} - L_{2} \\cos{\\left(\\theta_{2}{\\left(t \\right)} \\right)} \\frac{d}{d t} \\theta_{2}{\\left(t \\right)}\\right) \\sin{\\left(\\theta_{1}{\\left(t \\right)} \\right)} \\frac{d}{d t} \\theta_{1}{\\left(t \\right)}\\right)$"
          },
          "metadata": {},
          "execution_count": 36
        }
      ]
    },
    {
      "cell_type": "code",
      "source": [
        "LE2"
      ],
      "metadata": {
        "colab": {
          "base_uri": "https://localhost:8080/",
          "height": 130
        },
        "id": "r2NWHv8C0xzg",
        "outputId": "55475942-09e3-42e6-aba8-3a64292cd4d5"
      },
      "execution_count": 37,
      "outputs": [
        {
          "output_type": "execute_result",
          "data": {
            "text/plain": [
              "-L2*g*m2*sin(\\theta_2(t)) - 1.0*L2*m2*(-L1*sin(\\theta_1(t) - \\theta_2(t))*Derivative(\\theta_1(t), t)**2 + L1*sin(\\theta_1(t) - \\theta_2(t))*Derivative(\\theta_1(t), t)*Derivative(\\theta_2(t), t) + L1*cos(\\theta_1(t) - \\theta_2(t))*Derivative(\\theta_1(t), (t, 2)) + L2*Derivative(\\theta_2(t), (t, 2))) + 0.5*m2*(2*L2*(L1*sin(\\theta_1(t))*Derivative(\\theta_1(t), t) + L2*sin(\\theta_2(t))*Derivative(\\theta_2(t), t))*cos(\\theta_2(t))*Derivative(\\theta_2(t), t) + 2*L2*(-L1*cos(\\theta_1(t))*Derivative(\\theta_1(t), t) - L2*cos(\\theta_2(t))*Derivative(\\theta_2(t), t))*sin(\\theta_2(t))*Derivative(\\theta_2(t), t))"
            ],
            "text/latex": "$\\displaystyle - L_{2} g m_{2} \\sin{\\left(\\theta_{2}{\\left(t \\right)} \\right)} - 1.0 L_{2} m_{2} \\left(- L_{1} \\sin{\\left(\\theta_{1}{\\left(t \\right)} - \\theta_{2}{\\left(t \\right)} \\right)} \\left(\\frac{d}{d t} \\theta_{1}{\\left(t \\right)}\\right)^{2} + L_{1} \\sin{\\left(\\theta_{1}{\\left(t \\right)} - \\theta_{2}{\\left(t \\right)} \\right)} \\frac{d}{d t} \\theta_{1}{\\left(t \\right)} \\frac{d}{d t} \\theta_{2}{\\left(t \\right)} + L_{1} \\cos{\\left(\\theta_{1}{\\left(t \\right)} - \\theta_{2}{\\left(t \\right)} \\right)} \\frac{d^{2}}{d t^{2}} \\theta_{1}{\\left(t \\right)} + L_{2} \\frac{d^{2}}{d t^{2}} \\theta_{2}{\\left(t \\right)}\\right) + 0.5 m_{2} \\left(2 L_{2} \\left(L_{1} \\sin{\\left(\\theta_{1}{\\left(t \\right)} \\right)} \\frac{d}{d t} \\theta_{1}{\\left(t \\right)} + L_{2} \\sin{\\left(\\theta_{2}{\\left(t \\right)} \\right)} \\frac{d}{d t} \\theta_{2}{\\left(t \\right)}\\right) \\cos{\\left(\\theta_{2}{\\left(t \\right)} \\right)} \\frac{d}{d t} \\theta_{2}{\\left(t \\right)} + 2 L_{2} \\left(- L_{1} \\cos{\\left(\\theta_{1}{\\left(t \\right)} \\right)} \\frac{d}{d t} \\theta_{1}{\\left(t \\right)} - L_{2} \\cos{\\left(\\theta_{2}{\\left(t \\right)} \\right)} \\frac{d}{d t} \\theta_{2}{\\left(t \\right)}\\right) \\sin{\\left(\\theta_{2}{\\left(t \\right)} \\right)} \\frac{d}{d t} \\theta_{2}{\\left(t \\right)}\\right)$"
          },
          "metadata": {},
          "execution_count": 37
        }
      ]
    },
    {
      "cell_type": "markdown",
      "source": [
        "Solving the Lagrangian equations (assuming that `LE1` and `LE2` are equal to zero)"
      ],
      "metadata": {
        "id": "BknPDs-s03H1"
      }
    },
    {
      "cell_type": "code",
      "source": [
        "sols = smp.solve([LE1, LE2], (thet1_2D, thet2_2D), simplify=False, rational=False)"
      ],
      "metadata": {
        "id": "Myb3mOml1Chl"
      },
      "execution_count": 38,
      "outputs": []
    },
    {
      "cell_type": "markdown",
      "source": [
        "Converting the symbolic expressions above to numerical functions so we can use them in a numerical python solver.\n",
        "\n"
      ],
      "metadata": {
        "id": "7efR6E-x1a41"
      }
    },
    {
      "cell_type": "code",
      "source": [
        "dz1dt_f = smp.lambdify((t,g,m1,m2,L1,L2,thet1,thet2,thet1_D,thet2_D), sols[thet1_2D])\n",
        "dz2dt_f = smp.lambdify((t,g,m1,m2,L1,L2,thet1,thet2,thet1_D,thet2_D), sols[thet2_2D])\n",
        "\n",
        "dthe1dt_f = smp.lambdify(thet1_D, thet1_D)\n",
        "dthe2dt_f = smp.lambdify(thet2_D, thet2_D)"
      ],
      "metadata": {
        "id": "os8juWlJ1IE3"
      },
      "execution_count": 39,
      "outputs": []
    },
    {
      "cell_type": "code",
      "source": [
        "def dSdt(S, t, g, m1, m2, L1, L2):\n",
        "    thet1, z1, thet2, z2 = S\n",
        "    return [\n",
        "        dthe1dt_f(z1),\n",
        "        dz1dt_f(t, g, m1, m2, L1, L2, thet1, thet2, z1, z2),\n",
        "        dthe2dt_f(z2),\n",
        "        dz2dt_f(t, g, m1, m2, L1, L2, thet1, thet2, z1, z2),\n",
        "    ]"
      ],
      "metadata": {
        "id": "dE1NpRfZ15qu"
      },
      "execution_count": 40,
      "outputs": []
    },
    {
      "cell_type": "code",
      "source": [
        "t = np.linspace(0, 40, 2001)\n",
        "g = 9.81\n",
        "m1=2\n",
        "m2=1\n",
        "L1 = 2\n",
        "L2 = 1\n",
        "\n",
        "ans = odeint(dSdt, y0=[1, -3, -1, 5], t=t, args=(g,m1,m2,L1,L2))"
      ],
      "metadata": {
        "id": "7-hHdeXX2AlA"
      },
      "execution_count": 41,
      "outputs": []
    },
    {
      "cell_type": "code",
      "source": [
        "the1 = ans.T[0]\n",
        "the2 = ans.T[2]\n",
        "\n",
        "\n",
        "plt.plot(t, the2)"
      ],
      "metadata": {
        "colab": {
          "base_uri": "https://localhost:8080/",
          "height": 286
        },
        "id": "XTE7oZ8p2Hgw",
        "outputId": "b3dc474c-f429-4f28-9d6c-8d1a2cb3d1a1"
      },
      "execution_count": 42,
      "outputs": [
        {
          "output_type": "execute_result",
          "data": {
            "text/plain": [
              "[<matplotlib.lines.Line2D at 0x7f50d6ec0bd0>]"
            ]
          },
          "metadata": {},
          "execution_count": 42
        },
        {
          "output_type": "display_data",
          "data": {
            "text/plain": [
              "<Figure size 432x288 with 1 Axes>"
            ],
            "image/png": "[encoded data removed]"
          },
          "metadata": {
            "needs_background": "light"
          }
        }
      ]
    },
    {
      "cell_type": "code",
      "source": [
        "def get_x1y1x2y2(t, the1, the2, L1, L2):\n",
        "    return (L1*np.sin(the1),\n",
        "            -L1*np.cos(the1),\n",
        "            L1*np.sin(the1) + L2*np.sin(the2),\n",
        "            -L1*np.cos(the1) - L2*np.cos(the2))\n",
        "\n",
        "x1, y1, x2, y2 = get_x1y1x2y2(t, ans.T[0], ans.T[2], L1, L2)"
      ],
      "metadata": {
        "id": "GltKEigy2oJK"
      },
      "execution_count": 43,
      "outputs": []
    },
    {
      "cell_type": "code",
      "source": [
        "def animate(i):\n",
        "    ln1.set_data([0, x1[i], x2[i]], [0, y1[i], y2[i]])\n",
        "    \n",
        "fig, ax = plt.subplots(1,1, figsize=(8,8))\n",
        "ax.set_facecolor('k')\n",
        "ax.get_xaxis().set_ticks([])    # enable this to hide x axis ticks\n",
        "ax.get_yaxis().set_ticks([])    # enable this to hide y axis ticks\n",
        "ln1, = plt.plot([], [], 'ro--', lw=3, markersize=8)\n",
        "ax.set_ylim(-4,4)\n",
        "ax.set_xlim(-4,4)\n",
        "ani = animation.FuncAnimation(fig, animate, frames=2000, interval=50)\n",
        "ani.save('pen.gif',writer='pillow',fps=25)"
      ],
      "metadata": {
        "colab": {
          "base_uri": "https://localhost:8080/",
          "height": 469
        },
        "id": "7_x0Hym82ucb",
        "outputId": "3e5b255e-581e-4cf0-c1a1-5af32cc2f6a3"
      },
      "execution_count": 45,
      "outputs": [
        {
          "output_type": "display_data",
          "data": {
            "text/plain": [
              "<Figure size 576x576 with 1 Axes>"
            ],
            "image/png": "[encoded data removed]"
          },
          "metadata": {}
        }
      ]
    },
    {
      "cell_type": "code",
      "source": [
        ""
      ],
      "metadata": {
        "id": "HHS-MmRY2vxh"
      },
      "execution_count": null,
      "outputs": []
    }
  ]
}