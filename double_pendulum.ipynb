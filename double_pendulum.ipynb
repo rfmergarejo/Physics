{
  "nbformat": 4,
  "nbformat_minor": 0,
  "metadata": {
    "colab": {
      "name": "double_pendulum.ipynb",
      "provenance": [],
      "authorship_tag": "ABX9TyNoLi98LcASRKluqncB4tH7",
      "include_colab_link": true
    },
    "kernelspec": {
      "name": "python3",
      "display_name": "Python 3"
    },
    "language_info": {
      "name": "python"
    }
  },
  "cells": [
    {
      "cell_type": "markdown",
      "metadata": {
        "id": "view-in-github",
        "colab_type": "text"
      },
      "source": [
        "<a href=\"https://colab.research.google.com/github/rfmergarejo/Physics/blob/main/double_pendulum.ipynb\" target=\"_parent\"><img src=\"https://colab.research.google.com/assets/colab-badge.svg\" alt=\"Open In Colab\"/></a>"
      ]
    },
    {
      "cell_type": "markdown",
      "source": [
        "The double pendulum is a very complicate problem in physics where an analytical solution is almost impossible. "
      ],
      "metadata": {
        "id": "kT9M2-bbshCC"
      }
    },
    {
      "cell_type": "code",
      "source": [
        "import numpy as np\n",
        "import sympy as smp\n",
        "\n",
        "# Integrator.... Differential equation solver\n",
        "from scipy.integrate import odeint\n",
        "\n",
        "# All those librarys is for visualization.\n",
        "import matplotlib.pyplot as plt\n",
        "from matplotlib import animation\n",
        "from mpl_toolkits.mplot3d import Axes3D\n",
        "from matplotlib.animation import PillowWriter"
      ],
      "metadata": {
        "id": "mFGoJRics1Bw"
      },
      "execution_count": 1,
      "outputs": []
    }
  ]
}