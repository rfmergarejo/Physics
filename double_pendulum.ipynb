{
  "nbformat": 4,
  "nbformat_minor": 0,
  "metadata": {
    "colab": {
      "name": "double_pendulum.ipynb",
      "provenance": [],
      "collapsed_sections": [],
      "mount_file_id": "1W4hCu7HfwmkIQX_FxIoM6QBpLyqYLiUe",
      "authorship_tag": "ABX9TyMfbMJqYyUaG8NOZG16+ETY",
      "include_colab_link": true
    },
    "kernelspec": {
      "name": "python3",
      "display_name": "Python 3"
    },
    "language_info": {
      "name": "python"
    }
  },
  "cells": [
    {
      "cell_type": "markdown",
      "metadata": {
        "id": "view-in-github",
        "colab_type": "text"
      },
      "source": [
        "<a href=\"https://colab.research.google.com/github/rfmergarejo/Physics/blob/main/double_pendulum.ipynb\" target=\"_parent\"><img src=\"https://colab.research.google.com/assets/colab-badge.svg\" alt=\"Open In Colab\"/></a>"
      ]
    },
    {
      "cell_type": "markdown",
      "source": [
        "The double pendulum is a very complicate problem in physics where an analytical solution is almost impossible. "
      ],
      "metadata": {
        "id": "kT9M2-bbshCC"
      }
    },
    {
      "cell_type": "code",
      "source": [
        "import numpy as np\n",
        "import sympy as smp\n",
        "\n",
        "# Integrator.... Differential equation solver\n",
        "from scipy.integrate import odeint\n",
        "\n",
        "# All those librarys is for visualization.\n",
        "import matplotlib.pyplot as plt\n",
        "from matplotlib import animation\n",
        "from mpl_toolkits.mplot3d import Axes3D\n",
        "from matplotlib.animation import PillowWriter"
      ],
      "metadata": {
        "id": "mFGoJRics1Bw"
      },
      "execution_count": null,
      "outputs": []
    },
    {
      "cell_type": "markdown",
      "source": [
        "The representation is the following:\n",
        "\n",
        "\n",
        "\n"
      ],
      "metadata": {
        "id": "xiD8J8Xmt2mc"
      }
    },
    {
      "cell_type": "markdown",
      "source": [
        "Defining the apporpiate symbols using `sympy` "
      ],
      "metadata": {
        "id": "raXLzVkrvl-a"
      }
    },
    {
      "cell_type": "code",
      "source": [
        "t, g = smp.symbols('t, g')\n",
        "m1, m2 = smp.symbols('m1, m2')\n",
        "L1, L2 = smp.symbols('L1, L2')"
      ],
      "metadata": {
        "id": "nRgY_dbav0mt"
      },
      "execution_count": 4,
      "outputs": []
    },
    {
      "cell_type": "code",
      "source": [
        "thet1, thet2 = smp.symbols(r'\\theta_1, \\theta_2', cls=smp.Function)"
      ],
      "metadata": {
        "id": "a0TdGPM6wdGF"
      },
      "execution_count": 11,
      "outputs": []
    },
    {
      "cell_type": "markdown",
      "source": [
        "Explicitly writting $\\theta_1$ and $\\theta_2$ as a function of time."
      ],
      "metadata": {
        "id": "U-7mEqLnw6KM"
      }
    },
    {
      "cell_type": "code",
      "source": [
        "thet1 = thet1(t)\n",
        "thet2 = thet2(t)"
      ],
      "metadata": {
        "id": "yKYyfA5Qw19z"
      },
      "execution_count": 12,
      "outputs": []
    },
    {
      "cell_type": "markdown",
      "source": [
        "Define the first and seconds derivatives."
      ],
      "metadata": {
        "id": "VvSTmEeUyCJJ"
      }
    },
    {
      "cell_type": "code",
      "source": [
        "thet1_D = smp.diff(thet1, t)\n",
        "thet2_D = smp.diff(thet2, t)\n",
        "\n",
        "thet1_2D = smp.diff(thet1_D, t)\n",
        "thet2_2D = smp.diff(thet2_D, t)"
      ],
      "metadata": {
        "id": "jMnsvHTqyKGV"
      },
      "execution_count": 13,
      "outputs": []
    },
    {
      "cell_type": "markdown",
      "source": [
        "Defining the cartesians coordinates in terms of the parameters defined above"
      ],
      "metadata": {
        "id": "hGm2JlUayrHN"
      }
    },
    {
      "cell_type": "code",
      "source": [
        "x1 = -L1*smp.sin(thet1)\n",
        "y1 = -L1*smp.cos(thet1)\n",
        "\n",
        "x2 = x1 - L2*smp.sin(thet2)\n",
        "y2 = y1 - L2*smp.cos(thet2)"
      ],
      "metadata": {
        "id": "dzwLOQRay43_"
      },
      "execution_count": 14,
      "outputs": []
    },
    {
      "cell_type": "markdown",
      "source": [
        "Writing the Lagrangian "
      ],
      "metadata": {
        "id": "oygq4m_zzX0l"
      }
    },
    {
      "cell_type": "code",
      "source": [
        "# Kinetic Energy\n",
        "K1 = 0.5 * m1 * (smp.diff(x1, t)**2 + smp.diff(y1, t)**2)\n",
        "K2 = 0.5 * m2 * (smp.diff(x2, t)**2 + smp.diff(y2, t)**2)\n",
        "K = K1+K2\n",
        "\n",
        "# Potential \n",
        "V1 = m1*g*y1\n",
        "V2 = m2*g*y2\n",
        "V = V1 + V2\n",
        "\n",
        "# Lagrangian\n",
        "L = K-V"
      ],
      "metadata": {
        "id": "-dJOI_auzch4"
      },
      "execution_count": 16,
      "outputs": []
    },
    {
      "cell_type": "code",
      "source": [
        "L"
      ],
      "metadata": {
        "colab": {
          "base_uri": "https://localhost:8080/",
          "height": 119
        },
        "id": "hnP5gXQK0Asn",
        "outputId": "11d33b6d-a59a-4e2f-8964-a407ffa71f92"
      },
      "execution_count": 17,
      "outputs": [
        {
          "output_type": "execute_result",
          "data": {
            "text/plain": [
              "L1*g*m1*cos(\\theta_1(t)) - g*m2*(-L1*cos(\\theta_1(t)) - L2*cos(\\theta_2(t))) + 0.5*m1*(L1**2*sin(\\theta_1(t))**2*Derivative(\\theta_1(t), t)**2 + L1**2*cos(\\theta_1(t))**2*Derivative(\\theta_1(t), t)**2) + 0.5*m2*((L1*sin(\\theta_1(t))*Derivative(\\theta_1(t), t) + L2*sin(\\theta_2(t))*Derivative(\\theta_2(t), t))**2 + (-L1*cos(\\theta_1(t))*Derivative(\\theta_1(t), t) - L2*cos(\\theta_2(t))*Derivative(\\theta_2(t), t))**2)"
            ],
            "text/latex": "$\\displaystyle L_{1} g m_{1} \\cos{\\left(\\theta_{1}{\\left(t \\right)} \\right)} - g m_{2} \\left(- L_{1} \\cos{\\left(\\theta_{1}{\\left(t \\right)} \\right)} - L_{2} \\cos{\\left(\\theta_{2}{\\left(t \\right)} \\right)}\\right) + 0.5 m_{1} \\left(L_{1}^{2} \\sin^{2}{\\left(\\theta_{1}{\\left(t \\right)} \\right)} \\left(\\frac{d}{d t} \\theta_{1}{\\left(t \\right)}\\right)^{2} + L_{1}^{2} \\cos^{2}{\\left(\\theta_{1}{\\left(t \\right)} \\right)} \\left(\\frac{d}{d t} \\theta_{1}{\\left(t \\right)}\\right)^{2}\\right) + 0.5 m_{2} \\left(\\left(L_{1} \\sin{\\left(\\theta_{1}{\\left(t \\right)} \\right)} \\frac{d}{d t} \\theta_{1}{\\left(t \\right)} + L_{2} \\sin{\\left(\\theta_{2}{\\left(t \\right)} \\right)} \\frac{d}{d t} \\theta_{2}{\\left(t \\right)}\\right)^{2} + \\left(- L_{1} \\cos{\\left(\\theta_{1}{\\left(t \\right)} \\right)} \\frac{d}{d t} \\theta_{1}{\\left(t \\right)} - L_{2} \\cos{\\left(\\theta_{2}{\\left(t \\right)} \\right)} \\frac{d}{d t} \\theta_{2}{\\left(t \\right)}\\right)^{2}\\right)$"
          },
          "metadata": {},
          "execution_count": 17
        }
      ]
    },
    {
      "cell_type": "markdown",
      "source": [
        "Get Lagrange equation:\n",
        "\n",
        "$$ \\frac{\\partial L}{\\partial \\theta_1} - \\frac{d}{dt}\\frac{\\partial L}{\\partial \\dot{\\theta_1}} = 0 \\\\\n",
        "\\frac{\\partial L}{\\partial \\theta_2} - \\frac{d}{dt}\\frac{\\partial L}{\\partial \\dot{\\theta_2}} = 0$$"
      ],
      "metadata": {
        "id": "J8ePStTr0GjB"
      }
    },
    {
      "cell_type": "code",
      "source": [
        "LE1 = smp.diff(L, thet1) - smp.diff(smp.diff(L, thet1_D), t).simplify()\n",
        "LE2 = smp.diff(L, thet2) - smp.diff(smp.diff(L, thet2_D), t).simplify()"
      ],
      "metadata": {
        "id": "OBs8aAJo0mJK"
      },
      "execution_count": 18,
      "outputs": []
    },
    {
      "cell_type": "code",
      "source": [
        "LE1"
      ],
      "metadata": {
        "colab": {
          "base_uri": "https://localhost:8080/",
          "height": 130
        },
        "id": "lULoPcZi0vgv",
        "outputId": "d1528644-1c4c-40e1-bd53-7000840ec6e4"
      },
      "execution_count": 19,
      "outputs": [
        {
          "output_type": "execute_result",
          "data": {
            "text/plain": [
              "-L1*g*m1*sin(\\theta_1(t)) - L1*g*m2*sin(\\theta_1(t)) - L1*(L1*m1*Derivative(\\theta_1(t), (t, 2)) + L1*m2*Derivative(\\theta_1(t), (t, 2)) - L2*m2*sin(\\theta_1(t) - \\theta_2(t))*Derivative(\\theta_1(t), t)*Derivative(\\theta_2(t), t) + L2*m2*sin(\\theta_1(t) - \\theta_2(t))*Derivative(\\theta_2(t), t)**2 + L2*m2*cos(\\theta_1(t) - \\theta_2(t))*Derivative(\\theta_2(t), (t, 2))) + 0.5*m2*(2*L1*(L1*sin(\\theta_1(t))*Derivative(\\theta_1(t), t) + L2*sin(\\theta_2(t))*Derivative(\\theta_2(t), t))*cos(\\theta_1(t))*Derivative(\\theta_1(t), t) + 2*L1*(-L1*cos(\\theta_1(t))*Derivative(\\theta_1(t), t) - L2*cos(\\theta_2(t))*Derivative(\\theta_2(t), t))*sin(\\theta_1(t))*Derivative(\\theta_1(t), t))"
            ],
            "text/latex": "$\\displaystyle - L_{1} g m_{1} \\sin{\\left(\\theta_{1}{\\left(t \\right)} \\right)} - L_{1} g m_{2} \\sin{\\left(\\theta_{1}{\\left(t \\right)} \\right)} - L_{1} \\left(L_{1} m_{1} \\frac{d^{2}}{d t^{2}} \\theta_{1}{\\left(t \\right)} + L_{1} m_{2} \\frac{d^{2}}{d t^{2}} \\theta_{1}{\\left(t \\right)} - L_{2} m_{2} \\sin{\\left(\\theta_{1}{\\left(t \\right)} - \\theta_{2}{\\left(t \\right)} \\right)} \\frac{d}{d t} \\theta_{1}{\\left(t \\right)} \\frac{d}{d t} \\theta_{2}{\\left(t \\right)} + L_{2} m_{2} \\sin{\\left(\\theta_{1}{\\left(t \\right)} - \\theta_{2}{\\left(t \\right)} \\right)} \\left(\\frac{d}{d t} \\theta_{2}{\\left(t \\right)}\\right)^{2} + L_{2} m_{2} \\cos{\\left(\\theta_{1}{\\left(t \\right)} - \\theta_{2}{\\left(t \\right)} \\right)} \\frac{d^{2}}{d t^{2}} \\theta_{2}{\\left(t \\right)}\\right) + 0.5 m_{2} \\left(2 L_{1} \\left(L_{1} \\sin{\\left(\\theta_{1}{\\left(t \\right)} \\right)} \\frac{d}{d t} \\theta_{1}{\\left(t \\right)} + L_{2} \\sin{\\left(\\theta_{2}{\\left(t \\right)} \\right)} \\frac{d}{d t} \\theta_{2}{\\left(t \\right)}\\right) \\cos{\\left(\\theta_{1}{\\left(t \\right)} \\right)} \\frac{d}{d t} \\theta_{1}{\\left(t \\right)} + 2 L_{1} \\left(- L_{1} \\cos{\\left(\\theta_{1}{\\left(t \\right)} \\right)} \\frac{d}{d t} \\theta_{1}{\\left(t \\right)} - L_{2} \\cos{\\left(\\theta_{2}{\\left(t \\right)} \\right)} \\frac{d}{d t} \\theta_{2}{\\left(t \\right)}\\right) \\sin{\\left(\\theta_{1}{\\left(t \\right)} \\right)} \\frac{d}{d t} \\theta_{1}{\\left(t \\right)}\\right)$"
          },
          "metadata": {},
          "execution_count": 19
        }
      ]
    },
    {
      "cell_type": "code",
      "source": [
        "LE2"
      ],
      "metadata": {
        "colab": {
          "base_uri": "https://localhost:8080/",
          "height": 130
        },
        "id": "r2NWHv8C0xzg",
        "outputId": "d5119881-93be-446c-f875-e15881e35d6d"
      },
      "execution_count": 20,
      "outputs": [
        {
          "output_type": "execute_result",
          "data": {
            "text/plain": [
              "-L2*g*m2*sin(\\theta_2(t)) - 1.0*L2*m2*(-L1*sin(\\theta_1(t) - \\theta_2(t))*Derivative(\\theta_1(t), t)**2 + L1*sin(\\theta_1(t) - \\theta_2(t))*Derivative(\\theta_1(t), t)*Derivative(\\theta_2(t), t) + L1*cos(\\theta_1(t) - \\theta_2(t))*Derivative(\\theta_1(t), (t, 2)) + L2*Derivative(\\theta_2(t), (t, 2))) + 0.5*m2*(2*L2*(L1*sin(\\theta_1(t))*Derivative(\\theta_1(t), t) + L2*sin(\\theta_2(t))*Derivative(\\theta_2(t), t))*cos(\\theta_2(t))*Derivative(\\theta_2(t), t) + 2*L2*(-L1*cos(\\theta_1(t))*Derivative(\\theta_1(t), t) - L2*cos(\\theta_2(t))*Derivative(\\theta_2(t), t))*sin(\\theta_2(t))*Derivative(\\theta_2(t), t))"
            ],
            "text/latex": "$\\displaystyle - L_{2} g m_{2} \\sin{\\left(\\theta_{2}{\\left(t \\right)} \\right)} - 1.0 L_{2} m_{2} \\left(- L_{1} \\sin{\\left(\\theta_{1}{\\left(t \\right)} - \\theta_{2}{\\left(t \\right)} \\right)} \\left(\\frac{d}{d t} \\theta_{1}{\\left(t \\right)}\\right)^{2} + L_{1} \\sin{\\left(\\theta_{1}{\\left(t \\right)} - \\theta_{2}{\\left(t \\right)} \\right)} \\frac{d}{d t} \\theta_{1}{\\left(t \\right)} \\frac{d}{d t} \\theta_{2}{\\left(t \\right)} + L_{1} \\cos{\\left(\\theta_{1}{\\left(t \\right)} - \\theta_{2}{\\left(t \\right)} \\right)} \\frac{d^{2}}{d t^{2}} \\theta_{1}{\\left(t \\right)} + L_{2} \\frac{d^{2}}{d t^{2}} \\theta_{2}{\\left(t \\right)}\\right) + 0.5 m_{2} \\left(2 L_{2} \\left(L_{1} \\sin{\\left(\\theta_{1}{\\left(t \\right)} \\right)} \\frac{d}{d t} \\theta_{1}{\\left(t \\right)} + L_{2} \\sin{\\left(\\theta_{2}{\\left(t \\right)} \\right)} \\frac{d}{d t} \\theta_{2}{\\left(t \\right)}\\right) \\cos{\\left(\\theta_{2}{\\left(t \\right)} \\right)} \\frac{d}{d t} \\theta_{2}{\\left(t \\right)} + 2 L_{2} \\left(- L_{1} \\cos{\\left(\\theta_{1}{\\left(t \\right)} \\right)} \\frac{d}{d t} \\theta_{1}{\\left(t \\right)} - L_{2} \\cos{\\left(\\theta_{2}{\\left(t \\right)} \\right)} \\frac{d}{d t} \\theta_{2}{\\left(t \\right)}\\right) \\sin{\\left(\\theta_{2}{\\left(t \\right)} \\right)} \\frac{d}{d t} \\theta_{2}{\\left(t \\right)}\\right)$"
          },
          "metadata": {},
          "execution_count": 20
        }
      ]
    },
    {
      "cell_type": "markdown",
      "source": [
        "Solving the Lagrangian equations (assuming that `LE1` and `LE2` are equal to zero)"
      ],
      "metadata": {
        "id": "BknPDs-s03H1"
      }
    },
    {
      "cell_type": "code",
      "source": [
        "sols = smp.solve([LE1, LE2], (thet1_2D, thet2_2D), simplify=False, rational=False)"
      ],
      "metadata": {
        "id": "Myb3mOml1Chl"
      },
      "execution_count": 23,
      "outputs": []
    },
    {
      "cell_type": "markdown",
      "source": [
        "Converting the symbolic expressions above to numerical functions so we can use them in a numerical python solver.\n",
        "\n"
      ],
      "metadata": {
        "id": "7efR6E-x1a41"
      }
    },
    {
      "cell_type": "code",
      "source": [
        "dz1dt_f = smp.lambdify((t,g,m1,m2,L1,L2,thet1,thet2,thet1_D,thet2_D), sols[thet1_2D])\n",
        "dz2dt_f = smp.lambdify((t,g,m1,m2,L1,L2,thet1,thet2,thet1_D,thet2_D), sols[thet2_2D])\n",
        "\n",
        "dthe1dt_f = smp.lambdify(thet1_D, thet1_D)\n",
        "dthe2dt_f = smp.lambdify(thet2_D, thet2_D)"
      ],
      "metadata": {
        "colab": {
          "base_uri": "https://localhost:8080/",
          "height": 130
        },
        "id": "os8juWlJ1IE3",
        "outputId": "8561ac29-5327-4084-b90b-90bb19319ca8"
      },
      "execution_count": 26,
      "outputs": [
        {
          "output_type": "error",
          "ename": "SyntaxError",
          "evalue": "ignored",
          "traceback": [
            "\u001b[0;36m  File \u001b[0;32m\"<lambdifygenerated-1>\"\u001b[0;36m, line \u001b[0;32m1\u001b[0m\n\u001b[0;31m    def _lambdifygenerated(_Dummy_34, 9.81, 2, 1, 2, 1, _Dummy_33, _Dummy_32, _Dummy_31, _Dummy_30):\u001b[0m\n\u001b[0m                                         ^\u001b[0m\n\u001b[0;31mSyntaxError\u001b[0m\u001b[0;31m:\u001b[0m invalid syntax\n"
          ]
        }
      ]
    },
    {
      "cell_type": "code",
      "source": [
        "def dSdt(S, t, g, m1, m2, L1, L2):\n",
        "    thet1, z1, thet2, z2 = S\n",
        "    return [\n",
        "        dthe1dt_f(z1),\n",
        "        dz1dt_f(t, g, m1, m2, L1, L2, thet1, thet2, z1, z2),\n",
        "        dthe2dt_f(z2),\n",
        "        dz2dt_f(t, g, m1, m2, L1, L2, thet1, thet2, z1, z2),\n",
        "    ]"
      ],
      "metadata": {
        "id": "dE1NpRfZ15qu"
      },
      "execution_count": 24,
      "outputs": []
    },
    {
      "cell_type": "code",
      "source": [
        "t = np.linspace(0, 40, 2001)\n",
        "g = 9.81\n",
        "m1=2\n",
        "m2=1\n",
        "L1 = 2\n",
        "L2 = 1\n",
        "\n",
        "ans = odeint(dSdt, y0=[1, -3, -1, 5], t=t, args=(g,m1,m2,L1,L2))"
      ],
      "metadata": {
        "colab": {
          "base_uri": "https://localhost:8080/",
          "height": 345
        },
        "id": "7-hHdeXX2AlA",
        "outputId": "da3cbfa2-43b1-4d6e-e92f-8b7bdfae99d0"
      },
      "execution_count": 25,
      "outputs": [
        {
          "output_type": "error",
          "ename": "NameError",
          "evalue": "ignored",
          "traceback": [
            "\u001b[0;31m---------------------------------------------------------------------------\u001b[0m",
            "\u001b[0;31mNameError\u001b[0m                                 Traceback (most recent call last)",
            "\u001b[0;32m<ipython-input-25-f94ab240cc1b>\u001b[0m in \u001b[0;36m<module>\u001b[0;34m()\u001b[0m\n\u001b[1;32m      5\u001b[0m \u001b[0mL1\u001b[0m \u001b[0;34m=\u001b[0m \u001b[0;36m2\u001b[0m\u001b[0;34m\u001b[0m\u001b[0;34m\u001b[0m\u001b[0m\n\u001b[1;32m      6\u001b[0m \u001b[0mL2\u001b[0m \u001b[0;34m=\u001b[0m \u001b[0;36m1\u001b[0m\u001b[0;34m\u001b[0m\u001b[0;34m\u001b[0m\u001b[0m\n\u001b[0;32m----> 7\u001b[0;31m \u001b[0mans\u001b[0m \u001b[0;34m=\u001b[0m \u001b[0modeint\u001b[0m\u001b[0;34m(\u001b[0m\u001b[0mdSdt\u001b[0m\u001b[0;34m,\u001b[0m \u001b[0my0\u001b[0m\u001b[0;34m=\u001b[0m\u001b[0;34m[\u001b[0m\u001b[0;36m1\u001b[0m\u001b[0;34m,\u001b[0m \u001b[0;34m-\u001b[0m\u001b[0;36m3\u001b[0m\u001b[0;34m,\u001b[0m \u001b[0;34m-\u001b[0m\u001b[0;36m1\u001b[0m\u001b[0;34m,\u001b[0m \u001b[0;36m5\u001b[0m\u001b[0;34m]\u001b[0m\u001b[0;34m,\u001b[0m \u001b[0mt\u001b[0m\u001b[0;34m=\u001b[0m\u001b[0mt\u001b[0m\u001b[0;34m,\u001b[0m \u001b[0margs\u001b[0m\u001b[0;34m=\u001b[0m\u001b[0;34m(\u001b[0m\u001b[0mg\u001b[0m\u001b[0;34m,\u001b[0m\u001b[0mm1\u001b[0m\u001b[0;34m,\u001b[0m\u001b[0mm2\u001b[0m\u001b[0;34m,\u001b[0m\u001b[0mL1\u001b[0m\u001b[0;34m,\u001b[0m\u001b[0mL2\u001b[0m\u001b[0;34m)\u001b[0m\u001b[0;34m)\u001b[0m\u001b[0;34m\u001b[0m\u001b[0;34m\u001b[0m\u001b[0m\n\u001b[0m",
            "\u001b[0;32m/usr/local/lib/python3.7/dist-packages/scipy/integrate/odepack.py\u001b[0m in \u001b[0;36modeint\u001b[0;34m(func, y0, t, args, Dfun, col_deriv, full_output, ml, mu, rtol, atol, tcrit, h0, hmax, hmin, ixpr, mxstep, mxhnil, mxordn, mxords, printmessg, tfirst)\u001b[0m\n\u001b[1;32m    243\u001b[0m                              \u001b[0mfull_output\u001b[0m\u001b[0;34m,\u001b[0m \u001b[0mrtol\u001b[0m\u001b[0;34m,\u001b[0m \u001b[0matol\u001b[0m\u001b[0;34m,\u001b[0m \u001b[0mtcrit\u001b[0m\u001b[0;34m,\u001b[0m \u001b[0mh0\u001b[0m\u001b[0;34m,\u001b[0m \u001b[0mhmax\u001b[0m\u001b[0;34m,\u001b[0m \u001b[0mhmin\u001b[0m\u001b[0;34m,\u001b[0m\u001b[0;34m\u001b[0m\u001b[0;34m\u001b[0m\u001b[0m\n\u001b[1;32m    244\u001b[0m                              \u001b[0mixpr\u001b[0m\u001b[0;34m,\u001b[0m \u001b[0mmxstep\u001b[0m\u001b[0;34m,\u001b[0m \u001b[0mmxhnil\u001b[0m\u001b[0;34m,\u001b[0m \u001b[0mmxordn\u001b[0m\u001b[0;34m,\u001b[0m \u001b[0mmxords\u001b[0m\u001b[0;34m,\u001b[0m\u001b[0;34m\u001b[0m\u001b[0;34m\u001b[0m\u001b[0m\n\u001b[0;32m--> 245\u001b[0;31m                              int(bool(tfirst)))\n\u001b[0m\u001b[1;32m    246\u001b[0m     \u001b[0;32mif\u001b[0m \u001b[0moutput\u001b[0m\u001b[0;34m[\u001b[0m\u001b[0;34m-\u001b[0m\u001b[0;36m1\u001b[0m\u001b[0;34m]\u001b[0m \u001b[0;34m<\u001b[0m \u001b[0;36m0\u001b[0m\u001b[0;34m:\u001b[0m\u001b[0;34m\u001b[0m\u001b[0;34m\u001b[0m\u001b[0m\n\u001b[1;32m    247\u001b[0m         \u001b[0mwarning_msg\u001b[0m \u001b[0;34m=\u001b[0m \u001b[0m_msgs\u001b[0m\u001b[0;34m[\u001b[0m\u001b[0moutput\u001b[0m\u001b[0;34m[\u001b[0m\u001b[0;34m-\u001b[0m\u001b[0;36m1\u001b[0m\u001b[0;34m]\u001b[0m\u001b[0;34m]\u001b[0m \u001b[0;34m+\u001b[0m \u001b[0;34m\" Run with full_output = 1 to get quantitative information.\"\u001b[0m\u001b[0;34m\u001b[0m\u001b[0;34m\u001b[0m\u001b[0m\n",
            "\u001b[0;32m<ipython-input-24-079020f4e7a1>\u001b[0m in \u001b[0;36mdSdt\u001b[0;34m(S, t, g, m1, m2, L1, L2)\u001b[0m\n\u001b[1;32m      2\u001b[0m     \u001b[0mthet1\u001b[0m\u001b[0;34m,\u001b[0m \u001b[0mz1\u001b[0m\u001b[0;34m,\u001b[0m \u001b[0mthet2\u001b[0m\u001b[0;34m,\u001b[0m \u001b[0mz2\u001b[0m \u001b[0;34m=\u001b[0m \u001b[0mS\u001b[0m\u001b[0;34m\u001b[0m\u001b[0;34m\u001b[0m\u001b[0m\n\u001b[1;32m      3\u001b[0m     return [\n\u001b[0;32m----> 4\u001b[0;31m         \u001b[0mdthe1dt_f\u001b[0m\u001b[0;34m(\u001b[0m\u001b[0mz1\u001b[0m\u001b[0;34m)\u001b[0m\u001b[0;34m,\u001b[0m\u001b[0;34m\u001b[0m\u001b[0;34m\u001b[0m\u001b[0m\n\u001b[0m\u001b[1;32m      5\u001b[0m         \u001b[0mdz1dt_f\u001b[0m\u001b[0;34m(\u001b[0m\u001b[0mt\u001b[0m\u001b[0;34m,\u001b[0m \u001b[0mg\u001b[0m\u001b[0;34m,\u001b[0m \u001b[0mm1\u001b[0m\u001b[0;34m,\u001b[0m \u001b[0mm2\u001b[0m\u001b[0;34m,\u001b[0m \u001b[0mL1\u001b[0m\u001b[0;34m,\u001b[0m \u001b[0mL2\u001b[0m\u001b[0;34m,\u001b[0m \u001b[0mthet1\u001b[0m\u001b[0;34m,\u001b[0m \u001b[0mthet2\u001b[0m\u001b[0;34m,\u001b[0m \u001b[0mz1\u001b[0m\u001b[0;34m,\u001b[0m \u001b[0mz2\u001b[0m\u001b[0;34m)\u001b[0m\u001b[0;34m,\u001b[0m\u001b[0;34m\u001b[0m\u001b[0;34m\u001b[0m\u001b[0m\n\u001b[1;32m      6\u001b[0m         \u001b[0mdthe2dt_f\u001b[0m\u001b[0;34m(\u001b[0m\u001b[0mz2\u001b[0m\u001b[0;34m)\u001b[0m\u001b[0;34m,\u001b[0m\u001b[0;34m\u001b[0m\u001b[0;34m\u001b[0m\u001b[0m\n",
            "\u001b[0;31mNameError\u001b[0m: name 'dthe1dt_f' is not defined"
          ]
        }
      ]
    },
    {
      "cell_type": "code",
      "source": [
        ""
      ],
      "metadata": {
        "id": "XTE7oZ8p2Hgw"
      },
      "execution_count": null,
      "outputs": []
    }
  ]
}