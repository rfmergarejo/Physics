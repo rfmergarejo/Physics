{
  "nbformat": 4,
  "nbformat_minor": 0,
  "metadata": {
    "colab": {
      "name": "double_pendulum.ipynb",
      "provenance": [],
      "collapsed_sections": [],
      "mount_file_id": "1W4hCu7HfwmkIQX_FxIoM6QBpLyqYLiUe",
      "authorship_tag": "ABX9TyPKTWFdvlLwXSt7zXZnv80A",
      "include_colab_link": true
    },
    "kernelspec": {
      "name": "python3",
      "display_name": "Python 3"
    },
    "language_info": {
      "name": "python"
    }
  },
  "cells": [
    {
      "cell_type": "markdown",
      "metadata": {
        "id": "view-in-github",
        "colab_type": "text"
      },
      "source": [
        "<a href=\"https://colab.research.google.com/github/rfmergarejo/Physics/blob/main/double_pendulum.ipynb\" target=\"_parent\"><img src=\"https://colab.research.google.com/assets/colab-badge.svg\" alt=\"Open In Colab\"/></a>"
      ]
    },
    {
      "cell_type": "markdown",
      "source": [
        "The double pendulum is a very complicate problem in physics where an analytical solution is almost impossible. "
      ],
      "metadata": {
        "id": "kT9M2-bbshCC"
      }
    },
    {
      "cell_type": "code",
      "source": [
        "import numpy as np\n",
        "import sympy as smp\n",
        "\n",
        "# Integrator.... Differential equation solver\n",
        "from scipy.integrate import odeint\n",
        "\n",
        "# All those librarys is for visualization.\n",
        "import matplotlib.pyplot as plt\n",
        "from matplotlib import animation\n",
        "from mpl_toolkits.mplot3d import Axes3D\n",
        "from matplotlib.animation import PillowWriter"
      ],
      "metadata": {
        "id": "mFGoJRics1Bw"
      },
      "execution_count": null,
      "outputs": []
    },
    {
      "cell_type": "markdown",
      "source": [
        "The representation is the following:\n",
        "\n",
        "\n",
        "\n"
      ],
      "metadata": {
        "id": "xiD8J8Xmt2mc"
      }
    },
    {
      "cell_type": "markdown",
      "source": [
        "Defining the apporpiate symbols using `sympy` "
      ],
      "metadata": {
        "id": "raXLzVkrvl-a"
      }
    },
    {
      "cell_type": "code",
      "source": [
        "t, g = smp.symbols('t, g')\n",
        "m1, m2 = smp.symbols('m1, m2')\n",
        "L1, L2 = smp.symbols('L1, L2')"
      ],
      "metadata": {
        "id": "nRgY_dbav0mt"
      },
      "execution_count": 4,
      "outputs": []
    },
    {
      "cell_type": "code",
      "source": [
        "thet1, thet2 = smp.symbols(r'\\theta_1, \\theta_2')"
      ],
      "metadata": {
        "id": "a0TdGPM6wdGF"
      },
      "execution_count": 8,
      "outputs": []
    },
    {
      "cell_type": "markdown",
      "source": [
        "Explicitly writting $\\theta_1$ and $\\theta_2$ as a function of time."
      ],
      "metadata": {
        "id": "U-7mEqLnw6KM"
      }
    },
    {
      "cell_type": "code",
      "source": [
        "thet1 = thet1(t)\n",
        "thet2 = thet2(t)"
      ],
      "metadata": {
        "colab": {
          "base_uri": "https://localhost:8080/",
          "height": 183
        },
        "id": "yKYyfA5Qw19z",
        "outputId": "5e82f374-0252-492b-a440-f02211788001"
      },
      "execution_count": 10,
      "outputs": [
        {
          "output_type": "error",
          "ename": "TypeError",
          "evalue": "ignored",
          "traceback": [
            "\u001b[0;31m---------------------------------------------------------------------------\u001b[0m",
            "\u001b[0;31mTypeError\u001b[0m                                 Traceback (most recent call last)",
            "\u001b[0;32m<ipython-input-10-76c8b9a35b76>\u001b[0m in \u001b[0;36m<module>\u001b[0;34m()\u001b[0m\n\u001b[0;32m----> 1\u001b[0;31m \u001b[0mthet1\u001b[0m \u001b[0;34m=\u001b[0m \u001b[0mthet1\u001b[0m\u001b[0;34m(\u001b[0m\u001b[0mt\u001b[0m\u001b[0;34m)\u001b[0m\u001b[0;34m\u001b[0m\u001b[0;34m\u001b[0m\u001b[0m\n\u001b[0m\u001b[1;32m      2\u001b[0m \u001b[0mthet2\u001b[0m \u001b[0;34m=\u001b[0m \u001b[0mthet2\u001b[0m\u001b[0;34m(\u001b[0m\u001b[0mt\u001b[0m\u001b[0;34m)\u001b[0m\u001b[0;34m\u001b[0m\u001b[0;34m\u001b[0m\u001b[0m\n",
            "\u001b[0;31mTypeError\u001b[0m: 'Symbol' object is not callable"
          ]
        }
      ]
    }
  ]
}